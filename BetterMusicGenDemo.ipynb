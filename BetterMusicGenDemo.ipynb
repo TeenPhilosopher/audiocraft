{
  "nbformat": 4,
  "nbformat_minor": 0,
  "metadata": {
    "colab": {
      "provenance": [],
      "gpuType": "T4",
      "include_colab_link": true
    },
    "kernelspec": {
      "name": "python3",
      "display_name": "Python 3"
    },
    "language_info": {
      "name": "python"
    },
    "accelerator": "GPU"
  },
  "cells": [
    {
      "cell_type": "markdown",
      "metadata": {
        "id": "view-in-github",
        "colab_type": "text"
      },
      "source": [
        "<a href=\"https://colab.research.google.com/github/TeenPhilosopher/audiocraft/blob/main/BetterMusicGenDemo.ipynb\" target=\"_parent\"><img src=\"https://colab.research.google.com/assets/colab-badge.svg\" alt=\"Open In Colab\"/></a>"
      ]
    },
    {
    "cell_type": "code",
    "execution_count": null,
    "metadata": {},
    "outputs": [],
    "source": [
      "from tempfile import NamedTemporaryFile\n",
      "import argparse\n",
      "import torch\n",
      "import gradio as gr\n",
      "import os\n",
      "from audiocraft.models import MusicGen\n",
      "from audiocraft.data.audio import audio_write\n",
      "def predict(model, text, melody, window_len_secs, total_duration_secs, slide_secs, topk, topp, temperature, cfg_coef):\n",
      "    global MODEL\n",
      "    topk = int(topk)\n",
      "    if MODEL is None or MODEL.name != model:\n",
      "        MODEL = load_model(model)\n",
      "    print(MODEL.lm.fuser)\n",
      "    print(MODEL.lm.fuser.fuse2cond)\n",
      "    MODEL.set_generation_params(use_sampling=True, top_k=topk,\n",
      "                              top_p=topp, temperature=temperature,\n",
      "                              duration=window_len_secs, cfg_coef=cfg_coef)\n",
      "    print(MODEL.generation_params['cfg_coef'])\n",
      "    if melody:\n",
      "        sr, melody = melody[0], torch.from_numpy(melody[1]).to(MODEL.device).float().t().unsqueeze(0)\n",
      "        print(melody.shape)\n",
      "        if melody.dim() == 2:\n",
      "            melody = melody[None]\n",
      "        melody = melody[..., :int(sr * total_duration_secs)]\n",
      "    else:\n",
      "        sr, melody = None, None\n",
      "    output = MODEL.generate_music_for_duration(description=text, melody=melody, melody_sr=sr, window_len_secs=window_len_secs, total_duration_secs=total_duration_secs, slide_secs=slide_secs)\n",
      "    output = output.detach().cpu().float()[0]\n",
      "    with NamedTemporaryFile(\"wb\", suffix=\".wav\", delete=False) as file:\n",
      "        audio_write(\n",
      "            file.name, output, MODEL.sample_rate, strategy=\"loudness\",\n",
      "            loudness_headroom_db=16, loudness_compressor=True, add_suffix=False)\n",
      "        waveform_video = gr.make_waveform(file.name)\n",
      "    return waveform_video"
      ]
    },
    {
      "cell_type": "code",
      "source": [
        "!python3 -m pip install -U git+https://github.com/TeenPhilosopher/audiocraft#egg=audiocraft\n",
        "# !python3 -m pip install -U audiocraft"
      ],
      "metadata": {
        "id": "ku0ui5lKwpF7"
      },
      "execution_count": null,
      "outputs": []
    },
    {
      "cell_type": "code",
      "source": [
        "from audiocraft.models import musicgen\n",
        "from audiocraft.utils.notebook import display_audio\n",
        "import torch"
      ],
      "metadata": {
        "id": "YVgeUMjoZaJH"
      },
      "execution_count": null,
      "outputs": []
    },
    {
      "cell_type": "code",
      "source": [
        "model = musicgen.MusicGen.get_pretrained('medium', device='cuda')",
        "\n",
        "descriptions = [\n",
        "    \"Strong repeating lofi beats, warm mellow synths and warm jazzy chords with repeating vinyl crackle and repeating ocean wave and rain sounds, background conversation, slow subtle melody\",\n",
        "    \"Strong repeating EDM beat, a light and cheery EDM track, with syncopated drums, warm harmony airy pads, and strong emotions\",\n",
        "    \"Raw indie rock vibe with strong guitar riffs, powerful drum beats, bass guitar driving the rhythm, and a melodic vocal line layered over the top\",\n",
        "    \"Ambient music that is quiet, slowly evolving, with minimal beats, long echoing drones, and occasional soft piano and strings\",\n",
        "    \"Epic orchestral music with strong brass melodies, powerful percussions, dramatic string sections and a sense of adventure\",\n",
        "    \"Jazz music featuring swing rhythms, improvisation, syncopation, walking double bass and iconic brass solos\",\n",
        "    \"New age synth music with ethereal pads, subtle rhythms, ambient textures, and meditative melodies\"\n",
        "]",
        "\n",
        "for description in descriptions:\n",
        "    res = model.generate_music_for_duration(description=description,melody=None,melody_sr=None,window_len_secs=30,total_duration_secs=70,slide_secs=20)\n",
        "    display_audio(res, 32000)"
      ],
      "metadata": {
        "id": "yc_FYhbWZufi"
      },
      "execution_count": null,
      "outputs": []
    },
    {
      "cell_type": "code",
      "source": [],
      "metadata": {
        "id": "32g-tH7IZz5N"
      },
      "execution_count": null,
      "outputs": []
    },
    {
      "cell_type": "code",
      "source": [],
      "metadata": {
        "id": "LMEhDDBWo-BS"
      },
      "execution_count": null,
      "outputs": []
    },
    {
      "cell_type": "code",
      "source": [],
      "metadata": {
        "id": "rojR90c5xFMY"
      },
      "execution_count": null,
      "outputs": []
    }
  ]
}
