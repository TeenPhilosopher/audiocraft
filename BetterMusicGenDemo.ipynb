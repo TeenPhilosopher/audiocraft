{
  "nbformat": 4,
  "nbformat_minor": 0,
  "metadata": {
    "colab": {
      "provenance": [],
      "gpuType": "T4",
      "include_colab_link": true
    },
    "kernelspec": {
      "name": "python3",
      "display_name": "Python 3"
    },
    "language_info": {
      "name": "python"
    },
    "accelerator": "GPU"
  },
  "cells": [
    {
      "cell_type": "markdown",
      "metadata": {
        "id": "view-in-github",
        "colab_type": "text"
      },
      "source": [
        "<a href=\"https://colab.research.google.com/github/TeenPhilosopher/audiocraft/blob/main/BetterMusicGenDemo.ipynb\" target=\"_parent\"><img src=\"https://colab.research.google.com/assets/colab-badge.svg\" alt=\"Open In Colab\"/></a>"
      ]
    },
    {
      "cell_type": "code",
      "source": [
        "!python3 -m pip install -U git+https://github.com/TeenPhilosopher/audiocraft#egg=audiocraft\n",
        "# !python3 -m pip install -U audiocraft"
      ],
      "metadata": {
        "id": "ku0ui5lKwpF7"
      },
      "execution_count": null,
      "outputs": []
    },
    {
      "cell_type": "code",
      "source": [
        "from audiocraft.models import musicgen\n",
        "from audiocraft.utils.notebook import display_audio\n",
        "import torch"
      ],
      "metadata": {
        "id": "YVgeUMjoZaJH"
      },
      "execution_count": null,
      "outputs": []
    },
    {
      "cell_type": "code",
      "source": [
        "model = musicgen.MusicGen.get_pretrained('medium', device='cuda')\n",
        "description= 'a light and cheery EDM track, with syncopated drums, aery pads, and strong emotions'\n",
        "res = model.generate_music_for_duration(description=description,melody=None,melody_sr=None,window_len_secs=30,total_duration_secs=70,slide_secs=20)\n",
        "\n",
        "display_audio(res, 32000)"
      ],
      "metadata": {
        "id": "yc_FYhbWZufi"
      },
      "execution_count": null,
      "outputs": []
    },
    {
      "cell_type": "code",
      "source": [],
      "metadata": {
        "id": "32g-tH7IZz5N"
      },
      "execution_count": null,
      "outputs": []
    },
    {
      "cell_type": "code",
      "source": [],
      "metadata": {
        "id": "LMEhDDBWo-BS"
      },
      "execution_count": null,
      "outputs": []
    },
    {
      "cell_type": "code",
      "source": [],
      "metadata": {
        "id": "rojR90c5xFMY"
      },
      "execution_count": null,
      "outputs": []
    }
  ]
}
